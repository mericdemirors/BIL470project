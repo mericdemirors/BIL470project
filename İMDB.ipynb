{
 "cells": [
  {
   "cell_type": "code",
   "execution_count": 1,
   "metadata": {},
   "outputs": [
    {
     "name": "stderr",
     "output_type": "stream",
     "text": [
      "/tmp/ipykernel_5317/2064243291.py:3: DtypeWarning: Columns (4) have mixed types. Specify dtype option on import or set low_memory=False.\n",
      "  year_data = pd.read_csv('year.csv', on_bad_lines='skip', sep=\"\\t\")\n"
     ]
    }
   ],
   "source": [
    "def get_movies_since(year):\n",
    "    import pandas as pd\n",
    "    year_data = pd.read_csv('year.csv', on_bad_lines='skip', sep=\"\\t\")\n",
    "    movie_data = year_data[year_data[\"titleType\"].isin([\"movie\", \"tvMovie\"])]\n",
    "    movie_data_with_year = movie_data[movie_data[\"startYear\"] >= \"1990\"]\n",
    "    movie_data_with_valid_year = movie_data_with_year[movie_data_with_year[\"startYear\"] != \"\\\\N\"]\n",
    "    movie_data_with_valid_year = movie_data_with_valid_year[[\"tconst\", \"startYear\", \"originalTitle\"]]\n",
    "\n",
    "    imdb_data = pd.read_csv(\"ratings.csv\", sep=\"\\t\")\n",
    "\n",
    "    year_vote_data = pd.merge(imdb_data, movie_data_with_valid_year, on=\"tconst\", how=\"right\")\n",
    "    year_vote_data = year_vote_data[[\"tconst\",\"startYear\",\"averageRating\",\"numVotes\", \"originalTitle\"]]\n",
    "    year_vote_data.columns = [\"title id\",\"Year\",\"Rating\",\"Votes\", \"Title\"]\n",
    "    year_vote_data[\"rating link\"] = \"https://www.imdb.com/title/\"+year_vote_data[\"title id\"]+\"/ratings/?ref_=tt_ov_rt\"\n",
    "    year_vote_data = year_vote_data.sort_values(by=\"title id\").reset_index(drop=True)\n",
    "    year_vote_data.to_csv(\"movies_since_\"+\"1990\"+\".csv\", index=False)\n",
    "\n",
    "    return year_vote_data\n",
    "dataset = get_movies_since(\"1990\")"
   ]
  },
  {
   "cell_type": "code",
   "execution_count": 2,
   "metadata": {},
   "outputs": [
    {
     "data": {
      "text/html": [
       "<div>\n",
       "<style scoped>\n",
       "    .dataframe tbody tr th:only-of-type {\n",
       "        vertical-align: middle;\n",
       "    }\n",
       "\n",
       "    .dataframe tbody tr th {\n",
       "        vertical-align: top;\n",
       "    }\n",
       "\n",
       "    .dataframe thead th {\n",
       "        text-align: right;\n",
       "    }\n",
       "</style>\n",
       "<table border=\"1\" class=\"dataframe\">\n",
       "  <thead>\n",
       "    <tr style=\"text-align: right;\">\n",
       "      <th></th>\n",
       "      <th>title id</th>\n",
       "      <th>Year</th>\n",
       "      <th>Rating</th>\n",
       "      <th>Votes</th>\n",
       "      <th>Title</th>\n",
       "      <th>rating link</th>\n",
       "    </tr>\n",
       "  </thead>\n",
       "  <tbody>\n",
       "    <tr>\n",
       "      <th>0</th>\n",
       "      <td>tt0011801</td>\n",
       "      <td>2019</td>\n",
       "      <td>NaN</td>\n",
       "      <td>NaN</td>\n",
       "      <td>Tötet nicht mehr</td>\n",
       "      <td>https://www.imdb.com/title/tt0011801/ratings/?...</td>\n",
       "    </tr>\n",
       "    <tr>\n",
       "      <th>1</th>\n",
       "      <td>tt0013274</td>\n",
       "      <td>2021</td>\n",
       "      <td>6.4</td>\n",
       "      <td>36.0</td>\n",
       "      <td>Istoriya grazhdanskoy voyny</td>\n",
       "      <td>https://www.imdb.com/title/tt0013274/ratings/?...</td>\n",
       "    </tr>\n",
       "    <tr>\n",
       "      <th>2</th>\n",
       "      <td>tt0015414</td>\n",
       "      <td>2000</td>\n",
       "      <td>5.3</td>\n",
       "      <td>16.0</td>\n",
       "      <td>La tierra de los toros</td>\n",
       "      <td>https://www.imdb.com/title/tt0015414/ratings/?...</td>\n",
       "    </tr>\n",
       "    <tr>\n",
       "      <th>3</th>\n",
       "      <td>tt0015724</td>\n",
       "      <td>1993</td>\n",
       "      <td>6.1</td>\n",
       "      <td>26.0</td>\n",
       "      <td>Dama de noche</td>\n",
       "      <td>https://www.imdb.com/title/tt0015724/ratings/?...</td>\n",
       "    </tr>\n",
       "    <tr>\n",
       "      <th>4</th>\n",
       "      <td>tt0035423</td>\n",
       "      <td>2001</td>\n",
       "      <td>6.4</td>\n",
       "      <td>84785.0</td>\n",
       "      <td>Kate &amp; Leopold</td>\n",
       "      <td>https://www.imdb.com/title/tt0035423/ratings/?...</td>\n",
       "    </tr>\n",
       "  </tbody>\n",
       "</table>\n",
       "</div>"
      ],
      "text/plain": [
       "    title id  Year  Rating    Votes                        Title  \\\n",
       "0  tt0011801  2019     NaN      NaN             Tötet nicht mehr   \n",
       "1  tt0013274  2021     6.4     36.0  Istoriya grazhdanskoy voyny   \n",
       "2  tt0015414  2000     5.3     16.0       La tierra de los toros   \n",
       "3  tt0015724  1993     6.1     26.0                Dama de noche   \n",
       "4  tt0035423  2001     6.4  84785.0               Kate & Leopold   \n",
       "\n",
       "                                         rating link  \n",
       "0  https://www.imdb.com/title/tt0011801/ratings/?...  \n",
       "1  https://www.imdb.com/title/tt0013274/ratings/?...  \n",
       "2  https://www.imdb.com/title/tt0015414/ratings/?...  \n",
       "3  https://www.imdb.com/title/tt0015724/ratings/?...  \n",
       "4  https://www.imdb.com/title/tt0035423/ratings/?...  "
      ]
     },
     "execution_count": 2,
     "metadata": {},
     "output_type": "execute_result"
    }
   ],
   "source": [
    "import pandas as pd\n",
    "dataset = pd.read_csv(\"movies_since_1990.csv\")\n",
    "dataset.head()"
   ]
  },
  {
   "cell_type": "markdown",
   "metadata": {},
   "source": [
    "## extracting vote data"
   ]
  },
  {
   "cell_type": "code",
   "execution_count": 1,
   "metadata": {},
   "outputs": [],
   "source": [
    "def get_votes(link, vote_threshold=10000):\n",
    "    import requests, re\n",
    "    request_text = requests.get(link).text\n",
    "    if \"No Ratings Available\" in request_text or \"Well, what if there is no webpage?\" in request_text or int(((request_text[request_text.index(\"IMDb users have given a \")-15:request_text.index(\"IMDb users have given a \")-1].strip()).replace(\",\",\"\"))) < vote_threshold:\n",
    "        return [0,0,0,0,0,0,0,0,0,0], 0.0\n",
    "\n",
    "    star_votes = re.findall(\"<div class=\\\"leftAligned\\\">(.*?)</div>\", request_text)\n",
    "    rating = re.findall(\"span class=\\\"ipl-rating-star__rating\\\">(.*?)</span>\", request_text)\n",
    "    stars = [int(vote.replace(\",\",\"\")) for vote in star_votes[1:11]]\n",
    "    \n",
    "    return stars, float(rating[0])"
   ]
  },
  {
   "cell_type": "code",
   "execution_count": 4,
   "metadata": {},
   "outputs": [],
   "source": [
    "# 1 second for a link\n",
    "stars, rating = get_votes(\"https://www.imdb.com/title/tt0068646/ratings/?ref_=tt_ov_rt\", vote_threshold=10000)"
   ]
  },
  {
   "cell_type": "code",
   "execution_count": 2,
   "metadata": {},
   "outputs": [],
   "source": [
    "def fill_dataset(dataset, start=0, end=0, zip=1):\n",
    "    for i in range(start, end):\n",
    "        try:\n",
    "            stars, rating = get_votes(dataset.iloc[i][\"rating link\"])\n",
    "            dataset.loc[i,[\"1\",\"2\",\"3\",\"4\",\"5\",\"6\",\"7\",\"8\",\"9\",\"10\"]] = stars\n",
    "            dataset.loc[i,[\"Rating\",\"Votes\"]] = rating, sum(stars)\n",
    "        except:\n",
    "            pass\n",
    "        if i % 100 == 0:\n",
    "            print(i,\". movie done between \",start,\"-\",end, sep=\"\")\n",
    "\n",
    "    if zip:\n",
    "        print(end,\". movie done between \",start,\"-\",end, sep=\"\")\n",
    "        dataset.to_csv(\"movie_data_at_\"+str(start)+\"_\"+str(end)+\".csv\", index=False)\n",
    "    return dataset"
   ]
  },
  {
   "cell_type": "code",
   "execution_count": 7,
   "metadata": {},
   "outputs": [
    {
     "name": "stdout",
     "output_type": "stream",
     "text": [
      "5000. movie done between 5000-6000\n",
      "5100. movie done between 5000-6000\n",
      "5200. movie done between 5000-6000\n",
      "5300. movie done between 5000-6000\n",
      "5400. movie done between 5000-6000\n",
      "5500. movie done between 5000-6000\n",
      "5600. movie done between 5000-6000\n",
      "5700. movie done between 5000-6000\n",
      "5800. movie done between 5000-6000\n",
      "5900. movie done between 5000-6000\n",
      "6000. movie done between 5000-6000\n"
     ]
    }
   ],
   "source": [
    "import pandas as pd\n",
    "dataset = pd.read_csv(\"movie_data_at_5000_6000.csv\")\n",
    "dataset = fill_dataset(dataset, start=6000, end=7000, zip=1)"
   ]
  },
  {
   "cell_type": "code",
   "execution_count": null,
   "metadata": {},
   "outputs": [],
   "source": []
  }
 ],
 "metadata": {
  "kernelspec": {
   "display_name": "Python 3.10.4 64-bit",
   "language": "python",
   "name": "python3"
  },
  "language_info": {
   "codemirror_mode": {
    "name": "ipython",
    "version": 3
   },
   "file_extension": ".py",
   "mimetype": "text/x-python",
   "name": "python",
   "nbconvert_exporter": "python",
   "pygments_lexer": "ipython3",
   "version": "3.10.4"
  },
  "orig_nbformat": 4,
  "vscode": {
   "interpreter": {
    "hash": "916dbcbb3f70747c44a77c7bcd40155683ae19c65e1c03b4aa3499c5328201f1"
   }
  }
 },
 "nbformat": 4,
 "nbformat_minor": 2
}
