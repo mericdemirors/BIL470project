{
 "cells": [
  {
   "cell_type": "code",
   "execution_count": null,
   "metadata": {},
   "outputs": [],
   "source": [
    "def get_movies_since(year):\n",
    "    import pandas as pd\n",
    "    year_data = pd.read_csv('year.csv', on_bad_lines='skip', sep=\"\\t\")\n",
    "    movie_data = year_data[year_data[\"titleType\"].isin([\"movie\", \"tvMovie\"])]\n",
    "    movie_data_with_year = movie_data[movie_data[\"startYear\"] >= \"1990\"]\n",
    "    movie_data_with_valid_year = movie_data_with_year[movie_data_with_year[\"startYear\"] != \"\\\\N\"]\n",
    "    movie_data_with_valid_year = movie_data_with_valid_year[[\"tconst\", \"startYear\", \"originalTitle\"]]\n",
    "\n",
    "    imdb_data = pd.read_csv(\"ratings.csv\", sep=\"\\t\")\n",
    "\n",
    "    year_vote_data = pd.merge(imdb_data, movie_data_with_valid_year, on=\"tconst\", how=\"right\")\n",
    "    year_vote_data = year_vote_data[[\"tconst\",\"startYear\",\"averageRating\",\"numVotes\", \"originalTitle\"]]\n",
    "    year_vote_data.columns = [\"title id\",\"Year\",\"Rating\",\"Votes\", \"Title\"]\n",
    "    year_vote_data[\"rating link\"] = \"https://www.imdb.com/title/\"+year_vote_data[\"title id\"]+\"/ratings/?ref_=tt_ov_rt\"\n",
    "    year_vote_data = year_vote_data.sort_values(by=\"title id\").reset_index(drop=True)\n",
    "    year_vote_data.to_csv(\"movies_since_\"+\"1990\"+\".csv\", index=False)\n",
    "\n",
    "    return year_vote_data\n",
    "dataset = get_movies_since(\"1990\")"
   ]
  },
  {
   "cell_type": "markdown",
   "metadata": {},
   "source": [
    "## extracting vote data"
   ]
  },
  {
   "cell_type": "code",
   "execution_count": 1,
   "metadata": {},
   "outputs": [],
   "source": [
    "def get_votes(link, vote_threshold=10000):\n",
    "    import requests, re\n",
    "    request_text = requests.get(link).text\n",
    "    if \"No Ratings Available\" in request_text or \"Well, what if there is no webpage?\" in request_text or int(((request_text[request_text.index(\"IMDb users have given a \")-15:request_text.index(\"IMDb users have given a \")-1].strip()).replace(\",\",\"\"))) < vote_threshold:\n",
    "        return [0,0,0,0,0,0,0,0,0,0], 0.0\n",
    "\n",
    "    star_votes = re.findall(\"<div class=\\\"leftAligned\\\">(.*?)</div>\", request_text)\n",
    "    rating = re.findall(\"span class=\\\"ipl-rating-star__rating\\\">(.*?)</span>\", request_text)\n",
    "    stars = [int(vote.replace(\",\",\"\")) for vote in star_votes[1:11]]\n",
    "    \n",
    "    return stars, float(rating[0])"
   ]
  },
  {
   "cell_type": "code",
   "execution_count": 4,
   "metadata": {},
   "outputs": [],
   "source": [
    "# 1 second for a link\n",
    "stars, rating = get_votes(\"https://www.imdb.com/title/tt0068646/ratings/?ref_=tt_ov_rt\", vote_threshold=10000)"
   ]
  },
  {
   "cell_type": "code",
   "execution_count": 2,
   "metadata": {},
   "outputs": [],
   "source": [
    "def fill_dataset(dataset, start=0, end=0, zip=1):\n",
    "    for i in range(start, end):\n",
    "        try:\n",
    "            stars, rating = get_votes(dataset.iloc[i][\"rating link\"])\n",
    "            dataset.loc[i,[\"1\",\"2\",\"3\",\"4\",\"5\",\"6\",\"7\",\"8\",\"9\",\"10\"]] = stars\n",
    "            dataset.loc[i,[\"Rating\",\"Votes\"]] = rating, sum(stars)\n",
    "        except:\n",
    "            pass\n",
    "        if i % 100 == 0:\n",
    "            print(i,\". movie done between \",start,\"-\",end, sep=\"\")\n",
    "\n",
    "    if zip:\n",
    "        print(end,\". movie done between \",start,\"-\",end, sep=\"\")\n",
    "        dataset[:end].to_csv(\"movie_data_at_\"+str(start)+\"_\"+str(end)+\".csv\", index=False)\n",
    "    return dataset"
   ]
  },
  {
   "cell_type": "code",
   "execution_count": null,
   "metadata": {},
   "outputs": [],
   "source": [
    "import pandas as pd\n",
    "dataset = pd.read_csv(\"movie_data_at_5000_6000.csv\")\n",
    "dataset = fill_dataset(dataset, start=6000, end=7000, zip=1)"
   ]
  },
  {
   "cell_type": "markdown",
   "metadata": {},
   "source": [
    "## Merging movie and box office datasets"
   ]
  },
  {
   "cell_type": "code",
   "execution_count": 118,
   "metadata": {},
   "outputs": [],
   "source": [
    "def merge_movies_with_boxoffices(movie_csv_path, how_to_merge):\n",
    "    import pandas as pd\n",
    "    dataset = pd.read_csv(movie_csv_path)\n",
    "    dataset = dataset[~dataset[\"1\"].isnull()]\n",
    "    dataset = dataset[dataset[\"Votes\"]>0]\n",
    "    dataset[\"Title-Year\"] = dataset[\"Year\"].astype(str) + \" \" + dataset[\"Title\"]\n",
    "\n",
    "    movie_box_dataset = pd.read_csv(\"year_movie_worldwide_box.csv\")\n",
    "    movie_box_dataset.columns =  [\"Year\", \"Title\", \"WorldwideBox Office\"]\n",
    "    movie_box_dataset[\"Title-Year\"] = movie_box_dataset[\"Year\"].astype(int).astype(str) + \" \" + movie_box_dataset[\"Title\"]\n",
    "\n",
    "    including_movies = movie_box_dataset[movie_box_dataset[\"Title\"].isin(list(dataset[\"Title\"]))]\n",
    "    merge = pd.merge(dataset, including_movies[[\"Title-Year\",\"WorldwideBox Office\"]], on=\"Title-Year\", how=how_to_merge)\n",
    "    return merge"
   ]
  },
  {
   "cell_type": "code",
   "execution_count": null,
   "metadata": {},
   "outputs": [],
   "source": [
    "merge = merge_movies_with_boxoffices(\"movie_data_at_5000_6000.csv\", \"outer\")\n",
    "merge"
   ]
  },
  {
   "cell_type": "code",
   "execution_count": null,
   "metadata": {},
   "outputs": [],
   "source": []
  }
 ],
 "metadata": {
  "kernelspec": {
   "display_name": "Python 3.10.4 64-bit",
   "language": "python",
   "name": "python3"
  },
  "language_info": {
   "codemirror_mode": {
    "name": "ipython",
    "version": 3
   },
   "file_extension": ".py",
   "mimetype": "text/x-python",
   "name": "python",
   "nbconvert_exporter": "python",
   "pygments_lexer": "ipython3",
   "version": "3.10.4"
  },
  "orig_nbformat": 4,
  "vscode": {
   "interpreter": {
    "hash": "916dbcbb3f70747c44a77c7bcd40155683ae19c65e1c03b4aa3499c5328201f1"
   }
  }
 },
 "nbformat": 4,
 "nbformat_minor": 2
}
